{
  "cells": [
    {
      "cell_type": "markdown",
      "metadata": {
        "id": "O9pETg6BD7EX"
      },
      "source": [
        "<h1>Utilizando notebooks para análise de dados</h1>\n",
        "\n",
        "<p>O Google Colab, assim como o Jupyter, é um ambiente de execução interativa de código em Python e outras linguagens. Eles permitem criar um documento similar a uma página web que pode conter tanto o conteúdo estático tradicional de uma página web quanto código executável. O conteúdo estático é utilizado para documentação do projeto, enquanto que o código executável é utilizado para realizar a análise de dados.</p>\n",
        "<p>Um notebook é organizado com uso de células de conteúdo, que podem conter o conteúdo estático (celulas de texto) ou o conteúdo executável (células de código).\n",
        "    \n",
        "<p>Esta introdução que você está lendo, por exemplo, foi redigida em uma célula de texto.</p>\n",
        "<p>Já a próxima célula é uma célula de código.</p>\n",
        "\n",
        "Vamos começar dando uma olhada nos operadores em Python."
      ]
    },
    {
      "cell_type": "code",
      "execution_count": null,
      "metadata": {
        "id": "cL_qzys_QK5t"
      },
      "outputs": [],
      "source": [
        "#Operadores matemáticos em Python\n",
        "numero_1 = 81\n",
        "numero_2 = 4\n",
        "\n",
        "soma = numero_1 + numero_2\n",
        "subtracao = numero_1 - numero_2\n",
        "multiplicacao = numero_1 * numero_2\n",
        "divisao = numero_1 / numero_2\n",
        "divisao_inteira = numero_1 // numero_2\n",
        "modulo = numero_1 % numero_2\n",
        "exponenciacao = numero_1 ** numero_2\n",
        "raiz_quadrada = numero_1 ** 0.5 #A radiciação, é o inverso da potenciação: 9/1 ** 1/2 = 9 ** 1/2\n",
        "\n",
        "print(soma)\n",
        "print(subtracao)\n",
        "print(multiplicacao)\n",
        "print(divisao)\n",
        "print(divisao_inteira)\n",
        "print(modulo)\n",
        "print(exponenciacao)\n",
        "print(raiz_quadrada)"
      ]
    },
    {
      "cell_type": "code",
      "execution_count": null,
      "metadata": {
        "id": "JEz-l5wNQK5u"
      },
      "outputs": [],
      "source": [
        "#Operadores de atribuição em Python\n",
        "\n",
        "x=10     #x = 1\n",
        "print(x)\n",
        "x+=1     #x = x + 1\n",
        "print(x)\n",
        "x-=1     #x = x - 1\n",
        "print(x)\n",
        "x*=1     #x = x * 1\n",
        "print(x)\n",
        "x/=1     #x = x / 1\n",
        "print(x)\n",
        "x%=1     #x = x % 1"
      ]
    },
    {
      "cell_type": "code",
      "execution_count": null,
      "metadata": {
        "id": "YrTsHrvfQK5u"
      },
      "outputs": [],
      "source": [
        "# Operadores de comparação\n",
        "# >  (Maior que)\t    Verifica se um valor é maior que outro\n",
        "# <  (Menor que)\t    Verifica se um valor é menor que outro\n",
        "# == (Igual a)\t        Verifica se um valor é igual a outro\n",
        "# != (Diferente de)\t    Verifica se um valor é diferente de outro\n",
        "# >= (Maior ou igual a)\tVerifica se um valor é maior ou igual a outro\n",
        "# <= (Menor ou igual a) Verifica se um valor é menor ou igual a outro\n",
        "\n",
        "num_1 = 2\n",
        "num_2 = 4\n",
        "\n",
        "soma = num_1 + num_2\n",
        "\n",
        "if soma < 10:\n",
        "    print(\"Soma não é maior que 10\")\n",
        "else:\n",
        "    print(\"Soma é maior ou igual a 10\")\n",
        "\n",
        "\n",
        "soma_1 = 17 + 8\n",
        "soma_2 = 10 + 15\n",
        "\n",
        "if soma_1 == soma_2:\n",
        "    print(\"Os resultados são iguais\")\n",
        "else:\n",
        "    print(\"Os resultados são diferentes\")\n",
        "\n",
        "# Faça exemplos de validações para os demais operadores de comparação\n"
      ]
    },
    {
      "cell_type": "code",
      "execution_count": null,
      "metadata": {
        "id": "EvJOSu9oQK5u"
      },
      "outputs": [],
      "source": [
        "#Operadores lógicos\n",
        "# and\tRetorna True se todas as condições forem verdadeiras, caso contrário retorna False\n",
        "# or\tRetorna True se uma das condições for verdadeiras, caso contrário retorna False\n",
        "# not\tInverte o resultado: se o resultado da expressão for True, o operador retorna false\n",
        "x = 10\n",
        "print(x > 1 and x < 5)\n",
        "print(x > 1 or x < 5)\n",
        "print(not(x > 1 and x < 5))"
      ]
    },
    {
      "cell_type": "code",
      "execution_count": null,
      "metadata": {
        "id": "XvpcyD7cQK5u"
      },
      "outputs": [],
      "source": [
        "#Operadores lógicos\n",
        "idade_jonas= 20\n",
        "idade_carol = 18\n",
        "\n",
        "# OPERADOR OR\n",
        "if idade_jonas >= 18 or idade_carol >= 18:\n",
        "    print(\"Pelo menos um dos dois é maior de idade\")\n",
        "else:\n",
        "    print(\"Jonas e Carol não são maiores de idade\")\n",
        "\n",
        "# OPERADOR AND\n",
        "if idade_jonas >= 18 and idade_carol >= 18:\n",
        "    print(\"Jonas e Carol são maiores de idade\")\n",
        "else:\n",
        "    print(\"Pelo menos um dos dois não é maior de idade\")"
      ]
    },
    {
      "cell_type": "code",
      "execution_count": null,
      "metadata": {
        "id": "PxFsFgOMQK5v"
      },
      "outputs": [],
      "source": [
        "#Operadores de identidade\n",
        "# is\t    Retorna True se as variáveis comparadas forem o mesmo objeto\n",
        "# is not\tRetorna True se as variáveis comparadas não forem o mesmo objeto\n",
        "\n",
        "time_carlos = 'Internacional'\n",
        "time_luciano = 'Grêmio'\n",
        "time_fabricia = 'Juventude'\n",
        "time_maria = 'Internacional'\n",
        "\n",
        "if time_carlos is time_luciano:\n",
        "    print(\"time_carlos - time_luciano = mesmo objeto\")\n",
        "else:\n",
        "    print(\"time_carlos - time_luciano = objetos diferentes\")\n",
        "\n",
        "if time_carlos is time_fabricia:\n",
        "    print(\"time_carlos - time_fabricia = mesmo objeto\")\n",
        "else:\n",
        "    print(\"time_carlos - time_fabricia = objetos diferentes\")\n",
        "\n",
        "if time_carlos is time_maria:\n",
        "    print(\"time_carlos - time_maria = mesmo objeto\")\n",
        "else:\n",
        "    print(\"time_carlos - time_maria = objetos diferentes\")"
      ]
    },
    {
      "cell_type": "code",
      "execution_count": null,
      "metadata": {
        "id": "6TAaMq85QK5v"
      },
      "outputs": [],
      "source": [
        "#Operadores de associação\n",
        "# in\t    Retorna True caso o valor seja encontrado na sequência\n",
        "# not in\tRetorna True caso o valor não seja encontrado na sequência\n",
        "fruteira = [\"banana\",\"laranja\",\"uva\",\"ameixa\"]\n",
        "\n",
        "fruta_1 = \"uva\"\n",
        "fruta_2 = \"melancia\"\n",
        "\n",
        "print(fruta_1 in fruteira) # True\n",
        "print(fruta_2 in fruteira) # False"
      ]
    },
    {
      "cell_type": "markdown",
      "metadata": {
        "id": "0PxtFi_NI_O3"
      },
      "source": [
        "<p>Para aprender mais sobre o funcionamento de um notebook, recomendo o estudo do seguinte material:</p>\n",
        "\n",
        "*   [Projeto Jupyter](https://jupyter.org/)\n",
        "*   [Anaconda](https://www.anaconda.com/)\n",
        "\n",
        "<p>Além disto, recomendo fortemente o estudo das seguintes bibliotecas Python:</p>\n",
        "\n",
        "*   [Python Data Analysis Library (pandas)](https://pandas.pydata.org/)\n",
        "*   [N-dimensional array package (NumPy)](http://www.numpy.org/)\n",
        "*   [Python Machine Learning Toolkit (scikit-learn)](https://scikit-learn.org/)\n",
        "*   [Python 2D plotting library (Matplotlib)](https://matplotlib.org/)\n",
        "*   Existem outras bibliotecas eventualmente úteis disponíveis em [SciPy Toolkits](https://www.scipy.org/)\n",
        "\n",
        "<h2>Como ler dados de um arquivo .csv em um notebook</h2>\n",
        "\n",
        "<p>Trabalhar com arquivos de dados em formato .csv em um notebook é muito fácil. Na verdade, é fácil em qualquer programa Python. Isto graças a biblioteca de análise de dados **pandas**. **pandas** (isto não é um erro de português, ela é escrita assim mesmo, sempre em minúsculas) é uma bliblioteca que permite a leitura e a manipulação de dados em formato tabular. Para utilizá-la, precisamos primeiro carregar a biblioteca com o seguinte código:</p>"
      ]
    },
    {
      "cell_type": "code",
      "execution_count": null,
      "metadata": {
        "id": "4TZIp597o9jJ"
      },
      "outputs": [],
      "source": [
        "import pandas as pd"
      ]
    },
    {
      "cell_type": "markdown",
      "metadata": {
        "id": "nzgC3NG2o9jN"
      },
      "source": [
        "<p>**Atenção**: O carregamento de uma biblioteca é necessário antes de seu uso. Mas, basta carregá-la uma única vez por notebook. Uma vez executado o comando *import*, a biblioteca fica disponível para todas as demais células de código. No exemplo acima a biblioteca **pandas** foi carregada com o alias **pd**, que será utilizado daqui em diante.</p>\n"
      ]
    },
    {
      "cell_type": "code",
      "execution_count": null,
      "metadata": {
        "id": "r2povwnbo9jP"
      },
      "outputs": [],
      "source": [
        "# df = pd.read_csv('day.csv')\n",
        "#se for carregar o arquivo com o colab, comente o trecho acima e descomente o trecho abaixo\n",
        "from google.colab import files\n",
        "uploaded = files.upload()\n",
        "for fn in uploaded.keys():\n",
        "  print('User uploaded file \"{name}\" with length {length} bytes'.format(\n",
        "      name=fn, length=len(uploaded[fn])))"
      ]
    },
    {
      "cell_type": "markdown",
      "metadata": {
        "id": "48IiFvc2QK5w"
      },
      "source": [
        "<h3>Listando as primeiras linhas</h3>\n",
        "<p>Agora, com o auxílio da biblioteca **pandas**, carregar os dados de um arquivo .csv exige apenas uma linha. No exemplo a seguir a primeira linha carrega os dados para a memória com o uso de um objeto dataframe, que permite a manipulação de dados tabulares. A linha seguinte apresenta as primeiras linhas da tabela carregada em memória.</p>"
      ]
    },
    {
      "cell_type": "code",
      "execution_count": null,
      "metadata": {
        "id": "Dlz9vS7MQK5w"
      },
      "outputs": [],
      "source": [
        "df = pd.read_csv('day.csv')\n",
        "df.head(10)"
      ]
    },
    {
      "cell_type": "markdown",
      "metadata": {
        "id": "CGgvDR4-YZeg"
      },
      "source": [
        "<h2>Análise Exploratória de Dados</h2>\n",
        "<h3>Análise básica do conteúdo</h3>"
      ]
    },
    {
      "cell_type": "code",
      "execution_count": null,
      "metadata": {
        "id": "kTESur0OBzxm"
      },
      "outputs": [],
      "source": [
        "df.info()"
      ]
    },
    {
      "cell_type": "markdown",
      "metadata": {
        "id": "jsU_fABGQK5x"
      },
      "source": [
        "<h3>Listando o conteúdo de uma coluna específica em uma linha específica:</h3>\n",
        "<p>Neste caso a coluna cnt na linha de índice número 2, que é a terceira linha.</p>"
      ]
    },
    {
      "cell_type": "code",
      "execution_count": null,
      "metadata": {
        "id": "V-NAEB_WYj_B"
      },
      "outputs": [],
      "source": [
        "df['cnt'][2]"
      ]
    },
    {
      "cell_type": "code",
      "execution_count": null,
      "metadata": {
        "id": "iKcmRglqQK5x"
      },
      "outputs": [],
      "source": [
        "print('Percentual: ',df['registered'][4]/df['cnt'][4])"
      ]
    },
    {
      "cell_type": "markdown",
      "metadata": {
        "id": "VY_j00JYQK5x"
      },
      "source": [
        "<h3>Procurando por linhas que atendem a uma condição</h3>\n",
        "<p>Este seria o equivalente a usar o WHERE do SQL.</p>"
      ]
    },
    {
      "cell_type": "code",
      "execution_count": null,
      "metadata": {
        "id": "olLTjd4HQK5x"
      },
      "outputs": [],
      "source": [
        "df['cnt']==1349 # select * from df where cnt=1349"
      ]
    },
    {
      "cell_type": "code",
      "execution_count": null,
      "metadata": {
        "id": "IeVfn7wiZVIv"
      },
      "outputs": [],
      "source": [
        "df[df['cnt']>1900] # select * from df where cnt>1900"
      ]
    },
    {
      "cell_type": "markdown",
      "metadata": {
        "id": "BXAOxa9nQK5y"
      },
      "source": [
        "<h3>Calculando e imprimindo algumas medidas estatísticas básicas sobre uma coluna específica</h3>"
      ]
    },
    {
      "cell_type": "code",
      "execution_count": null,
      "metadata": {
        "id": "5LbrLYImZ36I"
      },
      "outputs": [],
      "source": [
        "print('Média de cnt......: ',df['cnt'].mean())\n",
        "print('Menor valor de cnt: ', df['cnt'].min())\n",
        "print('Maior valor de cnt: ', df['cnt'].max())"
      ]
    },
    {
      "cell_type": "markdown",
      "metadata": {
        "id": "7PWKCdLKQK5y"
      },
      "source": [
        "<h3>Calculando e imprimindo medidas estatísticas sobre todas as colunas numéricas</h3>"
      ]
    },
    {
      "cell_type": "code",
      "execution_count": null,
      "metadata": {
        "id": "iSrO2OLaB6uf"
      },
      "outputs": [],
      "source": [
        "df.describe()"
      ]
    },
    {
      "cell_type": "markdown",
      "metadata": {
        "id": "TEu3f90KQK5y"
      },
      "source": [
        "<h3>Calculando e imprimindo histogramas sobre todas as colunas numéricas</h3>"
      ]
    },
    {
      "cell_type": "code",
      "execution_count": null,
      "metadata": {
        "id": "xi7R8reQTaDr"
      },
      "outputs": [],
      "source": [
        "#%matplotlib inline # only in a Jupyter notebook\n",
        "import matplotlib.pyplot as plt\n",
        "\n",
        "df.hist(bins=50, figsize=(20,15))\n",
        "plt.show()"
      ]
    },
    {
      "cell_type": "markdown",
      "metadata": {
        "id": "mM5pq7eBQK5y"
      },
      "source": [
        "<h3>Gerando gráficos diversos</h3>\n",
        "\n",
        "<p><font color=red><b>Atenção:</b></font> <b>Jamais analisar a coluna alvo durante a análise exploratória.</b> Fazer isto poderia induzir o analista/pesquisador a tomar decisões específicas mais a frente baseadas nestas descobertas em detrimento de outras decisões igualmente válidas, introduzindo assim um viés indesejado na análise/pesquisa.</p>\n",
        "<p><b>Exemplo de análise que não deve ser feita:</b></p>"
      ]
    },
    {
      "cell_type": "code",
      "execution_count": null,
      "metadata": {
        "id": "u5AgXrb_a5LI"
      },
      "outputs": [],
      "source": [
        "df.plot(x='dteday', y='cnt')\n",
        "plt.show()"
      ]
    },
    {
      "cell_type": "markdown",
      "metadata": {
        "id": "TYvI1b_VQK5z"
      },
      "source": [
        "<b>Exemplos de análises úteis para compreensão das colunas preditivas:</b>"
      ]
    },
    {
      "cell_type": "code",
      "execution_count": null,
      "metadata": {
        "id": "MFN40D_UtPCI"
      },
      "outputs": [],
      "source": [
        "df.plot(x='dteday', y='temp')\n",
        "plt.show()"
      ]
    },
    {
      "cell_type": "code",
      "execution_count": null,
      "metadata": {
        "id": "vfh2Hv_dtFeK"
      },
      "outputs": [],
      "source": [
        "df.plot(x='dteday', y='season')\n",
        "plt.show()"
      ]
    },
    {
      "cell_type": "code",
      "execution_count": null,
      "metadata": {
        "id": "cBI6i06xbKgo"
      },
      "outputs": [],
      "source": [
        "df.plot(x='dteday', y=['temp','season'])\n",
        "plt.show()"
      ]
    },
    {
      "cell_type": "code",
      "execution_count": null,
      "metadata": {
        "id": "lqJigNH-QK50"
      },
      "outputs": [],
      "source": [
        "df.plot(x='dteday', y=['temp','hum'])\n",
        "plt.show()"
      ]
    },
    {
      "cell_type": "markdown",
      "metadata": {
        "id": "ohUFb67uQK50"
      },
      "source": [
        "## Analisando correlações entre colunas numéricas\n",
        "### Gráficos de dispersão comparando todas as colunas entre si"
      ]
    },
    {
      "cell_type": "code",
      "execution_count": null,
      "metadata": {
        "id": "H6LptqyBQK50"
      },
      "outputs": [],
      "source": [
        "feature_names = ['instant', 'dteday', 'season','yr','mnth',\n",
        "                           'holiday','weekday','workingday','weathersit',\n",
        "                           'temp','atemp','hum','windspeed','casual','registered']"
      ]
    },
    {
      "cell_type": "code",
      "execution_count": null,
      "metadata": {
        "id": "HC4QS-xaQK50"
      },
      "outputs": [],
      "source": [
        "pd.plotting.scatter_matrix(df[feature_names],figsize=(20, 20))\n",
        "plt.show()"
      ]
    },
    {
      "cell_type": "markdown",
      "metadata": {
        "id": "BoWQatlqQK50"
      },
      "source": [
        "### Analisando pares de colunas com correlações interessantes\n",
        "#### Correlação entre <i>atemp</i> e <i>temp</i>"
      ]
    },
    {
      "cell_type": "code",
      "execution_count": null,
      "metadata": {
        "id": "F8LKfAx3QK50"
      },
      "outputs": [],
      "source": [
        "df.plot(x='atemp', y='temp', kind='scatter')\n",
        "plt.show()"
      ]
    },
    {
      "cell_type": "code",
      "execution_count": null,
      "metadata": {
        "id": "T9dy1_w8QK50"
      },
      "outputs": [],
      "source": [
        "df[['atemp','temp']]"
      ]
    },
    {
      "cell_type": "code",
      "execution_count": null,
      "metadata": {
        "id": "gtWS2TldQK50"
      },
      "outputs": [],
      "source": [
        "import scipy.stats as stats\n",
        "\n",
        "r, p = stats.pearsonr(df['atemp'].values, df['temp'].values)\n",
        "r"
      ]
    },
    {
      "cell_type": "markdown",
      "metadata": {
        "id": "SCrF47jPQK51"
      },
      "source": [
        "#### Correlação entre <i>instant</i> e <i>registered</i>"
      ]
    },
    {
      "cell_type": "code",
      "execution_count": null,
      "metadata": {
        "id": "1uHzmr6XQK51"
      },
      "outputs": [],
      "source": [
        "df.plot(x='instant', y='registered', kind='scatter')\n",
        "plt.show()"
      ]
    },
    {
      "cell_type": "code",
      "execution_count": null,
      "metadata": {
        "id": "QkwMWZiLQK51"
      },
      "outputs": [],
      "source": [
        "r, p = stats.pearsonr(df['instant'].values, df['registered'].values)\n",
        "r"
      ]
    },
    {
      "cell_type": "markdown",
      "metadata": {
        "id": "KVFHV6dfQK51"
      },
      "source": [
        "#### Correlação entre <i>instant</i> e <i>temp</i>"
      ]
    },
    {
      "cell_type": "code",
      "execution_count": null,
      "metadata": {
        "id": "6rx_RpdXQK51"
      },
      "outputs": [],
      "source": [
        "df.plot(x='instant', y='temp', kind='scatter')\n",
        "plt.show()"
      ]
    },
    {
      "cell_type": "code",
      "execution_count": null,
      "metadata": {
        "id": "k3Adn76VQK51"
      },
      "outputs": [],
      "source": [
        "r, p = stats.pearsonr(df['instant'].values, df['temp'].values)\n",
        "r"
      ]
    },
    {
      "cell_type": "markdown",
      "metadata": {
        "id": "TnDXJ6DBQK51"
      },
      "source": [
        "### Automatizando um pouco a análise para conjuntos grandes de colunas"
      ]
    },
    {
      "cell_type": "markdown",
      "metadata": {
        "id": "hVCRZPq4QK51"
      },
      "source": [
        "#### Escolhendo as colunas preditivas númericas que serão analisadas"
      ]
    },
    {
      "cell_type": "code",
      "execution_count": null,
      "metadata": {
        "id": "raQIlYHWQK51"
      },
      "outputs": [],
      "source": [
        "num_feature_names = ['instant','season','yr','mnth','holiday',\n",
        "                     'weekday','workingday','weathersit',\n",
        "                     'temp','atemp','hum','windspeed',\n",
        "                     'casual','registered']"
      ]
    },
    {
      "cell_type": "markdown",
      "metadata": {
        "id": "gF4Uu3evQK51"
      },
      "source": [
        "#### Calculando uma matríz de correlações entre as colunas preditivas numéricas escolhidas"
      ]
    },
    {
      "cell_type": "code",
      "execution_count": null,
      "metadata": {
        "id": "JhI_gpm0QK51"
      },
      "outputs": [],
      "source": [
        "import numpy as np\n",
        "\n",
        "corr = np.corrcoef(df[num_feature_names],rowvar=False)\n",
        "corr"
      ]
    },
    {
      "cell_type": "markdown",
      "metadata": {
        "id": "GjblVL7fQK52"
      },
      "source": [
        "#### Criando um <i>dataframe pandas</i> para facilitar a visualização da matríz de correlações"
      ]
    },
    {
      "cell_type": "code",
      "execution_count": null,
      "metadata": {
        "id": "1SgEvP0oQK52"
      },
      "outputs": [],
      "source": [
        "dfcorr = pd.DataFrame(corr,index=num_feature_names,columns=num_feature_names)\n",
        "dfcorr"
      ]
    },
    {
      "cell_type": "markdown",
      "metadata": {
        "id": "79Xlx_XPQK52"
      },
      "source": [
        "#### Exportando a matríz de correlações para um arquivo <i>.csv</i> visando análise no Excel"
      ]
    },
    {
      "cell_type": "code",
      "execution_count": null,
      "metadata": {
        "id": "nbtgxldvQK52"
      },
      "outputs": [],
      "source": [
        "dfcorr.to_csv('correlmat.csv',sep=';',decimal=',')"
      ]
    }
  ],
  "metadata": {
    "colab": {
      "provenance": []
    },
    "kernelspec": {
      "display_name": "Python 3 (ipykernel)",
      "language": "python",
      "name": "python3"
    },
    "language_info": {
      "codemirror_mode": {
        "name": "ipython",
        "version": 3
      },
      "file_extension": ".py",
      "mimetype": "text/x-python",
      "name": "python",
      "nbconvert_exporter": "python",
      "pygments_lexer": "ipython3",
      "version": "3.9.7"
    }
  },
  "nbformat": 4,
  "nbformat_minor": 0
}